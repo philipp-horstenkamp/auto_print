{
 "cells": [
  {
   "cell_type": "code",
   "execution_count": 13,
   "metadata": {
    "collapsed": true
   },
   "outputs": [],
   "source": [
    "import win32print"
   ]
  },
  {
   "cell_type": "markdown",
   "source": [
    "# Create a list of all possible printers!\n",
    "\n",
    "This should be used to validate a config file."
   ],
   "metadata": {
    "collapsed": false,
    "pycharm": {
     "name": "#%% md\n"
    }
   }
  },
  {
   "cell_type": "code",
   "execution_count": 32,
   "outputs": [],
   "source": [
    "printers = win32print.EnumPrinters(2)\n",
    "printers"
   ],
   "metadata": {
    "collapsed": false,
    "pycharm": {
     "name": "#%%\n"
    }
   }
  },
  {
   "cell_type": "code",
   "execution_count": 35,
   "outputs": [
    {
     "data": {
      "text/plain": "['ZD1',\n 'Send To OneNote 2016',\n 'OneNote for Windows 10',\n 'PDF24 Fax',\n 'PDF24',\n 'Minolta Main',\n 'Microsoft XPS Document Writer',\n 'Microsoft Print to PDF',\n 'Marthastr',\n 'KONICA MINOLTA C287SeriesPS',\n 'KONICA MINOLTA C287SeriesFAX',\n 'Fax',\n 'Ettikten CP']"
     },
     "execution_count": 35,
     "metadata": {},
     "output_type": "execute_result"
    }
   ],
   "source": [
    "printer_names = [section[1].split(\",\")[0] for section in printers]\n",
    "printer_names"
   ],
   "metadata": {
    "collapsed": false,
    "pycharm": {
     "name": "#%%\n"
    }
   }
  },
  {
   "cell_type": "code",
   "execution_count": null,
   "outputs": [],
   "source": [],
   "metadata": {
    "collapsed": false,
    "pycharm": {
     "name": "#%%\n"
    }
   }
  }
 ],
 "metadata": {
  "kernelspec": {
   "display_name": "Python 3",
   "language": "python",
   "name": "python3"
  },
  "language_info": {
   "codemirror_mode": {
    "name": "ipython",
    "version": 2
   },
   "file_extension": ".py",
   "mimetype": "text/x-python",
   "name": "python",
   "nbconvert_exporter": "python",
   "pygments_lexer": "ipython2",
   "version": "2.7.6"
  }
 },
 "nbformat": 4,
 "nbformat_minor": 0
}